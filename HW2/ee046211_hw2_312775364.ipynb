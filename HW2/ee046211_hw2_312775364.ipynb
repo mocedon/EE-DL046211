{
  "cells": [
    {
      "cell_type": "markdown",
      "metadata": {
        "id": "dzV9wsJ5pGhf"
      },
      "source": [
        "# <img src=\"https://img.icons8.com/bubbles/50/000000/mind-map.png\" style=\"height:50px;display:inline\"> EE 046211 - Technion - Deep Learning\n",
        "---\n",
        "\n",
        "## HW2 - Multilayer NNs and Convolutional NNs\n",
        "---"
      ]
    },
    {
      "cell_type": "markdown",
      "metadata": {
        "id": "bq2c8X93pGhh"
      },
      "source": [
        "### <img src=\"https://img.icons8.com/clouds/96/000000/keyboard.png\" style=\"height:50px;display:inline\"> Keyboard Shortcuts\n",
        "---\n",
        "* Run current cell: **Ctrl + Enter**\n",
        "* Run current cell and move to the next: **Shift + Enter**\n",
        "* Show lines in a code cell: **Esc + L**\n",
        "* View function documentation: **Shift + Tab** inside the parenthesis or `help(name_of_module)`\n",
        "* New cell below: **Esc + B**\n",
        "* Delete cell: **Esc + D, D** (two D's)"
      ]
    },
    {
      "cell_type": "markdown",
      "metadata": {
        "id": "vZZybn3NpGhh"
      },
      "source": [
        "### <img src=\"https://img.icons8.com/bubbles/50/000000/information.png\" style=\"height:50px;display:inline\"> Students Information\n",
        "---\n",
        "* Fill in\n",
        "\n",
        "|Name     |Campus Email| ID  |\n",
        "|---------|--------------------------------|----------|\n",
        "|Alexander Balabanov| alexander.b@campus.technion.ac.il| 312775364|\n",
        "|Student 2| student_2@campus.technion.ac.il| 987654321|\n"
      ]
    },
    {
      "cell_type": "markdown",
      "metadata": {
        "id": "dDK5zqhdpGhi"
      },
      "source": [
        "### <img src=\"https://img.icons8.com/bubbles/50/000000/upload-to-cloud.png\" style=\"height:50px;display:inline\"> Submission Guidelines\n",
        "---\n",
        "* Maximal garde: 100.\n",
        "* Submission only in **pairs**. \n",
        "    * Please make sure you have registered your group in Moodle (there is a group creation component on the Moodle where you need to create your group and assign members).\n",
        "* **No handwritten submissions.** You can choose whether to answer in a Markdown cell in this notebook or attach a PDF with your answers.\n",
        "* <a style='color:red'> SAVE THE NOTEBOOKS WITH THE OUTPUT, CODE CELLS THAT WERE NOT RUN WILL NOT GET ANY POINTS! </a>\n",
        "* What you have to submit:\n",
        "    * If you have answered the questions in the notebook, you should submit this file only, with the name: `ee046211_hw2_id1_id2.ipynb`.\n",
        "    * If you answered the questions in a different file you should submit a `.zip` file with the name `ee046211_hw2_id1_id2.zip` with content:\n",
        "        * `ee046211_hw2_id1_id2.ipynb` - the code tasks\n",
        "        * `ee046211_hw2_id1_id2.pdf` - answers to questions.\n",
        "    * No other file-types (`.py`, `.docx`...) will be accepted.\n",
        "* Submission on the course website (Moodle).\n",
        "* **Latex in Colab** - in some cases, Latex equations may no be rendered. To avoid this, make sure to not use *bullets* in your answers (\"* some text here with Latex equations\" -> \"some text here with Latex equations\")."
      ]
    },
    {
      "cell_type": "markdown",
      "metadata": {
        "id": "pmSj_UufpGhi"
      },
      "source": [
        "### <img src=\"https://img.icons8.com/dusk/64/000000/online.png\" style=\"height:50px;display:inline\"> Working Online and Locally\n",
        "---\n",
        "* You can choose your working environment:\n",
        "    1. `Jupyter Notebook`, **locally** with <a href=\"https://www.anaconda.com/distribution/\">Anaconda</a> or **online** on <a href=\"https://colab.research.google.com/\">Google Colab</a>\n",
        "        * Colab also supports running code on GPU, so if you don't have one, Colab is the way to go. To enable GPU on Colab, in the menu: `Runtime`$\\rightarrow$ `Change Runtime Type` $\\rightarrow$`GPU`.\n",
        "    2. Python IDE such as <a href=\"https://www.jetbrains.com/pycharm/\">PyCharm</a> or <a href=\"https://code.visualstudio.com/\">Visual Studio Code</a>.\n",
        "        * Both allow editing and running Jupyter Notebooks.\n",
        "\n",
        "* Please refer to `Setting Up the Working Environment.pdf` on the Moodle or our GitHub (https://github.com/taldatech/ee046211-deep-learning) to help you get everything installed.\n",
        "* If you need any technical assistance, please go to our Piazza forum (`hw2` folder) and describe your problem (preferably with images)."
      ]
    },
    {
      "cell_type": "markdown",
      "metadata": {
        "id": "nlp1Fp4ppGhj"
      },
      "source": [
        "### <img src=\"https://img.icons8.com/bubbles/50/000000/checklist.png\" style=\"height:50px;display:inline\"> Agenda\n",
        "---\n",
        "\n",
        "* [Part 1 - Theory](#-Part-1---Theory)\n",
        "    * [Q1 - Generalization in A Teacher-Student Setup](#-Question-1--Generalization-in-A-Teacher-Student-Setup)\n",
        "    * [Q2 - Backpropagation By Hand](#-Question-2---Backpropagation-By-Hand)\n",
        "    * [Q3 - Deep Double Descent](#-Question-3---Deep-Double-Descent)\n",
        "    * [Q4 - Initialization](#-Question-4---Initialization)\n",
        "    * [Q5 - MLP and Invaraince](#-Question-5---MLP-and-Invaraince)\n",
        "    * [Q6 - VGG Architecture](#-Question-6--VGG-Architecture)\n",
        "* [Part 2 - Code Assignments](#-Part-2---Code-Assignments)\n",
        "    * [Task 1 - The Importance of Activation and Initialization](#-Task-1---The-Importance-of-Activation-and-Initialization)\n",
        "    * [Task 2 - FashionMNIST Deep Classifer](#-Task-2---FashionMNIST-Deep-Classifer)\n",
        "    * [Task 3 - Design a CNN](#-Task-3---Design-a-CNN)\n",
        "* [Credits](#-Credits)"
      ]
    },
    {
      "cell_type": "markdown",
      "metadata": {
        "id": "XKtSiQX_pGhj"
      },
      "source": [
        "### <img src=\"https://img.icons8.com/cute-clipart/64/000000/ball-point-pen.png\" style=\"height:50px;display:inline\"> Part 1 - Theory\n",
        "---\n",
        "* You can choose whether to answser these straight in the notebook (Markdown + Latex) or use another editor (Word, LyX, Latex, Overleaf...) and submit an additional PDF file, **but no handwritten submissions**.\n",
        "* You can attach additional figures (drawings, graphs,...) in a separate PDF file, just make sure to refer to them in your answers.\n",
        "\n",
        "* $\\large\\LaTeX$ <a href=\"https://kapeli.com/cheat_sheets/LaTeX_Math_Symbols.docset/Contents/Resources/Documents/index\">Cheat-Sheet</a> (to write equations)\n",
        "    * <a href=\"http://tug.ctan.org/info/latex-refsheet/LaTeX_RefSheet.pdf\">Another Cheat-Sheet</a>"
      ]
    },
    {
      "cell_type": "markdown",
      "metadata": {
        "id": "RsqSFZG1pGhj"
      },
      "source": [
        "## <img src=\"https://img.icons8.com/clouds/100/000000/question-mark.png\" style=\"height:50px;display:inline\"> Question 1 -Generalization in A Teacher-Student Setup\n",
        "---\n",
        "\n",
        "Recall from lecture 4 the Risk $\\mathcal{R}(w)$: $$ \\mathcal{R}(w) \\triangleq \\mathbb{E}_{x^{(0)} \\sim \\mathcal{N}(0, I) } \\left[ ||w^Tx^{(0)} - w_t^Tx^{(0)}||^2 \\right] $$\n",
        "\n",
        "Prove:\n",
        "\n",
        "$$ \\mathcal{R}(w) = ||w-w_t||^2 $$\n",
        "\n",
        "\n",
        "# Answer\n",
        "Expanding the right term\n",
        "$$ \\mathcal{R}(w) \\triangleq \\mathbb{E}_{x^{(0)} \\sim \\mathcal{N}(0, I) } \\left[ ||w^Tx^{(0)} - w_t^Tx^{(0)}||^2 \\right] =\n",
        "\\mathbb{E}_{x^{(0)} \\sim \\mathcal{N}(0, I) }\\left[(w^Tx^{(0)}-w_t^Tx^{(0)})(w^Tx^{(0)}-w_t^Tx^{(0)})^T\n",
        "  \\right] =$$\n",
        "  Using the expansion and determinate nature of $w, w_t$:\n",
        "  $$= w^T\\mathbb{E}_{x^{(0)} \\sim \\mathcal{N}(0, I) }\\left[\n",
        "  x^{(0)}x^{(0)T}\\right]w-$$\n",
        "  $$- w^T\\mathbb{E}_{x^{(0)} \\sim \\mathcal{N}(0, I) }\\left[\n",
        "  x^{(0)}x^{(0)T}\\right]w_t-$$\n",
        "  $$- w^T_t\\mathbb{E}_{x^{(0)} \\sim \\mathcal{N}(0, I) }\\left[\n",
        "  x^{(0)}x^{(0)T}\\right]w+$$\n",
        "  $$+ w^T_t\\mathbb{E}_{x^{(0)} \\sim \\mathcal{N}(0, I) }\\left[\n",
        "  x^{(0)}x^{(0)T}\\right]w^T_t=$$\n",
        "This term is the MSE that is also the variance for $\\mu=0$:\n",
        "  $$ \\begin{Bmatrix}\\mathbb{E}_{x^{(0)} \\sim \\mathcal{N}(0, I) }\\left[x^{(0)}x^{(0)T}\n",
        "  \\right] = \\mathbb{E}_{x^{(0)} \\sim \\mathcal{N}(0, I) }\\left[||x^{(0)}||^2\n",
        "  \\right]=I \\end{Bmatrix}$$\n",
        "Resulting in:\n",
        "  $$ =w^Tw -w^Tw_t - w^Tw + w^Tw_t =||w-w_t||^2 $$"
      ]
    },
    {
      "cell_type": "markdown",
      "metadata": {
        "id": "e7-nAbsT4D2K"
      },
      "source": [
        "## <img src=\"https://img.icons8.com/clouds/100/000000/question-mark.png\" style=\"height:50px;display:inline\"> Question 2 - Backpropagation By Hand\n",
        "---\n",
        "Consider the following network:\n",
        "<img src=\"https://raw.githubusercontent.com/taldatech/ee046211-deep-learning/main/assets/backprop_by_hand_ex1.png\" style=\"height:300px\">\n",
        "\n",
        "We will work with one sample for this example, but it can be extended to mini-batches.\n",
        "\n",
        "* Input: $x = \\begin{bmatrix} 1 \\\\ 4 \\\\ 5 \\end{bmatrix} \\in \\mathbb{R}^3$\n",
        "* Output (target): $ t = \\begin{bmatrix} 0.1 \\\\ 0.05 \\end{bmatrix} \\in \\mathbb{R}^2 $\n",
        "* Number of Hidden Layers: 1\n",
        "* Activation: Sigmoid for both hidden and output layers\n",
        "* Loss Functions: MSE\n",
        "\n",
        "We initialize the weights and biases to random values as follows:\n",
        "<img src=\"https://raw.githubusercontent.com/taldatech/ee046211-deep-learning/main/assets/backprop_by_hand_ex2.png\" style=\"height:300px\">\n",
        "\n",
        "1. Perform one forward pass and calculate the MSE.\n",
        "2. Perform backpropagation (one backward pass, i.e., calculate the gradients).\n",
        "3. With a learning rate of $\\alpha = 0.01$, what are the new values of the weights after performing the forward pass and backward pass (assume we use SGD)?\n",
        "\n",
        "\n",
        "\n",
        "\n",
        "\n",
        "\n",
        "\n",
        "\n",
        "\n",
        "\n",
        "\n",
        "\n",
        "\n",
        "\n",
        "\n",
        "\n",
        "\n",
        "\n",
        "\n",
        "\n",
        "\n",
        "\n",
        "\n",
        "\n",
        "\n",
        "\n",
        "\n",
        "\n",
        "\n",
        "\n",
        "\n",
        "\n",
        "\n",
        "\n",
        "\n",
        "\n",
        "\n",
        "\n",
        "\n",
        "\n",
        "\n",
        "\n",
        "\n",
        "\n",
        "\n",
        "\n",
        "\n",
        "# Answer\n",
        "  * Part 1.\n",
        "\n",
        "  Calculating forward pass\n",
        "$$h_1 = σ(x_1w_1+x_2w_3+x_3w_5+b_1) = σ(4.3)=0.986$$\n",
        "$$h_2 = σ(x_1w_2+x_2w_4+x_3w_6+b_1) = σ(5.3)=0.995$$\n",
        "$$o_1 = σ(h_1w_7+h_2w_{9~}+b_2) = σ(2.088)=0.890$$\n",
        "$$o_2 = σ(h_1w_8+h_2w_{10}+b_1) = σ(1.389)=0.800$$\n",
        "$$l = \\frac{(0.1-o_1)^2+(0.05-o_2)^2}{2}=0.593$$\n",
        "\n",
        "  * Part 2.\n",
        "\n",
        "  First let us find the known derivatives:\n",
        "  $$\\frac{∂}{∂o_i}l= (o_i-t_i) $$\n",
        "  $$\\frac{∂}{∂w_i}o_j=\\frac{∂}{∂w_i}σ(o_i')=\\frac{∂}{∂o'_i}\\sigma(o'_i)⋅\\frac{∂}{∂w_i}o'_i=σ(o'_i)(1-σ(o'_i))h_k = σ'(o'_i)h_k $$\n",
        "  $$\\frac{∂}{∂h_i}o_j=\\frac{∂}{∂h_i}σ(o_i')=\\frac{∂}{∂o'_i}\\sigma(o'_i)⋅\\frac{∂}{∂h_i}o'_i=σ(o'_i)(1-σ(o'_i))w_k = σ'(o'_i)w_k $$\n",
        "  $$\\frac{∂}{∂b_i}o_j=\\frac{∂}{∂b_i}σ(o_i')=\\frac{∂}{∂o'_i}\\sigma(o'_i)⋅\\frac{∂}{∂b_i}o'_i=σ(o'_i)(1-σ(o'_i))\\cdot 1 = σ'(o'_i) $$\n",
        "  These derivatives covers the whole tree,\n",
        "  \n",
        "  Moving back on the tree:\n",
        "  $$ \\frac{∂}{∂w_7}l=\\frac{∂}{∂o_1}l\\cdot \\frac{∂}{∂w_7}o_1 =(0.79)σ'(o'_1)h_1=0.076 $$\n",
        "  $$ \\frac{∂}{∂w_8}l=\\frac{∂}{∂o_2}l\\cdot \\frac{∂}{∂w_8}o_2 =(0.75)σ'(o'_2)h_1=0.118$$\n",
        "  $$ \\frac{∂}{∂w_9}l=\\frac{∂}{∂o_1}l\\cdot \\frac{∂}{∂w_7}o_1=(0.79)σ'(o'_1)h_2=0.077$$\n",
        "  $$ \\frac{∂}{∂w_{10}}l=\\frac{∂}{∂o_2}l\\cdot \\frac{∂}{∂w_{10}}o_2=(0.75)σ'(o'_2)h_2=0.119$$\n",
        "  \n",
        "  $$ \\frac{∂}{∂b_2}l=\\frac{∂}{∂o_1}l\\cdot \\frac{∂}{∂b_2}o_1 + \n",
        "  \\frac{∂}{∂o_2}l\\cdot \\frac{∂}{∂b_2}o_2 = (0.79)σ'(o'_1)+(0.75)σ'(o'_2)=0.197$$\n",
        "\n",
        "  $$ \\frac{∂}{∂h_1}l=\\frac{∂}{∂o_1}l\\cdot \\frac{∂}{∂h_1}o_1 + \n",
        "  \\frac{∂}{∂o_2}l\\cdot \\frac{∂}{∂h_1}o_2 = (0.79)σ'(o'_1)w_7+(0.75)σ'(o'_2)w_8=0.150$$\n",
        "  $$ \\frac{∂}{∂h_2}l=\\frac{∂}{∂o_1}l\\cdot \\frac{∂}{∂h_2}o_1 + \n",
        "  \\frac{∂}{∂o_2}l\\cdot \\frac{∂}{∂h_2}o_2=(0.79)σ'(o'_1)w_9 +(0.75)σ'(o'_2)w_{10}=0.082$$\n",
        "  \n",
        "  $$ \\frac{∂l}{∂w_1}=\\frac{∂l}{∂h_1}\\cdot \\frac{∂h_1}{∂w_1} =(0.15)σ'(h'_1)x_1=0.002$$\n",
        "  $$ \\frac{∂l}{∂w_2}=\\frac{∂l}{∂h_2}\\cdot \\frac{∂h_2}{∂w_2}=(0.08)σ'(h'_2)x_2=0.0004$$\n",
        "  $$ \\frac{∂l}{∂w_3}=\\frac{∂l}{∂h_1}\\cdot \\frac{∂h_1}{∂w_3}=(0.15)σ'(h'_1)x_3=0.008$$\n",
        "  $$ \\frac{∂l}{∂w_4}=\\frac{∂l}{∂h_2}\\cdot \\frac{∂h_2}{∂w_4}=(0.08)σ'(h'_2)x_4=0.0016$$\n",
        "  $$ \\frac{∂l}{∂w_5}=\\frac{∂l}{∂h_1}\\cdot \\frac{∂h_1}{∂w_5}=(0.15)σ'(h'_1)x_5=0.001$$\n",
        "  $$ \\frac{∂l}{∂w_6}=\\frac{∂l}{∂h_2}\\cdot \\frac{∂h_2}{∂w_6}=(0.08)σ'(h'_2)x_6=0.002$$\n",
        "  $$ \\frac{∂l}{∂b_1}=\\frac{∂l}{∂h_1}\\cdot \\frac{∂h_1}{∂b_1} + \\frac{∂l}{∂h_2}\\cdot \\frac{∂h_2}{∂b_1}=(0.15)σ'(h'_1)+(0.08)σ'(h'_2)=0.002$$\n",
        "\n",
        "  * Part 3.\n",
        "\n",
        "  Using SGD for batch size of 1, the update policy is:\n",
        "  $$ w(t+1) = w(t) -α\\cdot ∇l(f(x,w)) $$\n",
        "  Therefore the new weights are:\n",
        "  $$ w_1(1) = 0.0998 $$\n",
        "  $$ w_2(1) = 0.199996 $$\n",
        "  $$ w_3(1) = 0.299 $$\n",
        "  $$ w_4(1) = 0.399 $$\n",
        "  $$ w_5(1) = 0.499 $$\n",
        "  $$ w_6(1) = 0.599 $$\n",
        "  $$ b_1(1) = 0.499 $$\n",
        "  $$ w_7(1) = 0.699 $$\n",
        "  $$ w_8(1) = 0.798 $$\n",
        "  $$ w_9(1) = 0.899 $$\n",
        "  $$ w_{10}(1) = 0.0988 $$\n",
        "  $$ b_2(1) = 0.498 $$\n"
      ]
    },
    {
      "cell_type": "markdown",
      "metadata": {
        "id": "i33SnLB84D2M"
      },
      "source": [
        "## <img src=\"https://img.icons8.com/clouds/100/000000/question-mark.png\" style=\"height:50px;display:inline\"> Question 3 - Deep Double Descent\n",
        "---\n",
        "\n",
        "For the following plots:\n",
        "1. Where is the critical point (the point of transition between the \"Classical Regime\" and \"Modern Regime\") of the deep double descent?\n",
        "2. What type of double descent is shown? Explain.\n",
        "    \n",
        "\n",
        "a. <img src='https://raw.githubusercontent.com/taldatech/ee046211-deep-learning/main/assets/double_descent_transformer.PNG' style=\"height:300px\">\n",
        "\n",
        "Figure 1:\n",
        "\n",
        "The critical point is different for both models,\n",
        "\n",
        "De-En - critical point is around 200\n",
        "En-Fr - critical point is around 280\n",
        "\n",
        "Since we have critical point that moves for En-Fr we would deduce there are more samples and it causes the move, is it Sample-wise non-monotonicity\n",
        "\n",
        "\n",
        "b. <img src='https://raw.githubusercontent.com/taldatech/ee046211-deep-learning/main/assets/double_descent_resnet.PNG' style=\"height:300px\">\n",
        "\n",
        "All 3 noise model have the same critical point around 12 width parameter, which makes sense since noise doesn't affect the point of switch between model.\n",
        "\n",
        "Again it is model-wise double descent since the width parameter changes how big the network is and how many parameters are there.\n",
        "\n",
        "\n",
        "c. <img src='https://raw.githubusercontent.com/taldatech/ee046211-deep-learning/main/assets/double_descent_intermediate.PNG' style=\"height:300px\">\n",
        "\n",
        "The critical point as on the large model, around 100 epochs.\n",
        "The small model can't fit all data so it doesn't experience the bias-variance treadeoff.\n",
        "Medium model can't fir the entire model and therefore stuck in the bias-variance regime.\n",
        "\n",
        "As suggested by the X axis, is in epoch-wise double descent."
      ]
    },
    {
      "cell_type": "markdown",
      "metadata": {
        "id": "6BLFOJWN4D2N"
      },
      "source": [
        "## <img src=\"https://img.icons8.com/clouds/100/000000/question-mark.png\" style=\"height:50px;display:inline\"> Question 4 - Initialization\n",
        "---\n",
        "\n",
        "Recall that in lecture 5 we were discussing how to calculate the initialization variance, and reached the conclusion that $$ \\sigma_l =\\frac{1}{\\sqrt{d_{l-1}\\mathbb{E}_{z\\sim \\mathcal{N}(0, 1)} \\left[\\varphi^2(z)\\right]}} $$\n",
        "Show that for ReLU activation ($\\varphi(z) = max(0,z)$), the optimal variance satisfies: $$ \\sigma_l = \\sqrt{\\frac{2}{d_{l-1}}}$$\n",
        "\n",
        "All the notations are the same as in the lecture slides.\n",
        "\n",
        "# Answer\n",
        "Let us find the mean of the square of the activation function\n",
        "$$\\mathbb{E}_{z\\sim \\mathcal{N}(0, 1)} \\left[\\varphi^2(z)\\right]=\\int_{-\\infty}^{\\infty}f(z)ϕ^2(z)dz=\\int_{-\\infty}^{0}f(z)ϕ^2(z)dz+\\int_{0}^{\\infty}f(z)ϕ^2(z)dz\\underset{(1)}{=}\\int_{-\\infty}^{0}f(z)\\cdot 0dz+\\int_{0}^{\\infty}f(z)z^2dz\\underset{(2)}{=}\\frac{1}{2}\\int_{-\\infty}^{\\infty}f(z)z^2dz=\\frac{1}{2}var(z)=\\frac{1}{2}$$\n",
        "\n",
        "Where:\n",
        "$$(1) ~~~ϕ(z)=\\cases{z & z≥ 0 \\\\ 0 & z<0}$$\n",
        "$$(2) ~~~g(z)=f(z)z^2=g(-z)$$\n",
        "\n",
        "$$σ_l=\\frac{1}{\\sqrt{d_{l-1}\\mathbb{E}_{z\\sim \\mathcal{N}(0, 1)} \\left[\\varphi^2(z)\\right]}}=\\frac{1}{\\sqrt{\\frac{d_{l-1}}{2}}}=\\sqrt{\\frac{2}{d_{l-1}}}$$"
      ]
    },
    {
      "cell_type": "markdown",
      "metadata": {
        "id": "-Cmyjbx34D2N"
      },
      "source": [
        "## <img src=\"https://img.icons8.com/clouds/100/000000/question-mark.png\" style=\"height:50px;display:inline\"> Question 5 - MLP and Invaraince\n",
        "---\n",
        "\n",
        "You have to design an MLP with the following input: DNA sequences of length $d$. The DNA is a sequence of bases, where each base can be one of 4 options: $(C, T, G, A)$. Thus, the input can be described as the following matrix: $$ X \\in \\mathcal{R}^{4 \\times d}, $$ where $X[j,i]$ denotes the measured value of base concentration of the $j^{th}$ base at location $i$. \n",
        "\n",
        "The network should output a **binary** classification $y \\in \\{-1, 1\\}$ for a specific property we wish to find. The network will be trained on samples $\\{X^{(n)}, y^{(n)} \\}_{n=1}^{N}$, with a **logistic loss function**.\n",
        "\n",
        "First, we will examine a network with 1 hidden layerof size $4 \\times d$ and a **LeakyReLU** activation $\\phi$: $$ f_w(X) = \\sum_{r=1}^{4}\\sum_{k=1}^d W_2[r,k]\\phi\\left(\\sum_{j=1}^{4}\\sum_{i=1}^d W_1[r, k,j, i]X[j, i] \\right),$$ where $w=\\{W_1, W_2\\}$ are the layers of the weight **tensors**. After training is done, the classification will be done with $\\text{sign}(f(X))$.\n",
        "\n",
        "1. Which invariances exist in the network's parameters?\n",
        "2. Now, we notice the fact that: the *direction* in which the DNA is scanned is arbitrary. Thus, if for two inputs $X, \\tilde{X}$: $$ \\forall i,j: \\: X[j,i] = \\tilde{X}[j, d-i+1], $$ then the two inputs are **equivalent** in their meaning. What constraints should we put on the network's parameters to improve the network's classification performance?\n",
        "3. After that, we now recall that the DNA bases come in pairs, and thus if for two inputs $X, \\tilde{X}$: $$ \\forall i,j : \\: X[j,i] = \\tilde{X}[(j+2)\\text{mod}4 + 1,i], $$ then the two inputs are **equivalent** in their meaning. What constraints should we put on the network's parameters to improve the network's classification performance?\n",
        "4. We now notice that the measurement process in noisy, each sample $X^{(n)}$ is in arbitrary scale, and thus if for two $X, \\tilde{X}$: $$ \\forall i,j: \\: X[j,i] = c\\tilde{X}[j,i], $$ for some constant $c>0$, then the two inputs are **equivalent** in their meaning.\n",
        "    * (a) For the given network, that **is already trained**, what is the effect of the scale $c$ on the classification result?\n",
        "    * (b) Can the arbitrary scale hurt the training process? Hint: think what happens to the gradient of each sample.\n",
        "    * (c) How can use this information to improve the classifier performance?\n",
        "\n",
        "\n",
        "# Answer\n",
        "* Section 1:\n",
        "\n",
        "  Looking at the definition of $f_w(X)$ it can clearly be seen that the network is equivalemt to a FC-MLP network\n",
        "$$f_w(X)=\\sum_{r=1}^{4d}W'_2[r]\\phi \\left( \\sum_{k=1}^{4d}W'_1[k,i]X'[k] \\right) $$\n",
        "  Where:\n",
        "  \n",
        "  Input layer: $4\\times d$\n",
        "  Linear layer: 4\\times d$\n",
        "  Activation layer: Leaky reLU\n",
        "  Linear layer: 1\n",
        "  Activation layer: Sign\n",
        "\n",
        "  $$X'[i]=X[mod(i,4)][i/4]$$\n",
        "  $$W'_1[r][i]=W_1[mod(r,4)][r/4][mod(i,4)][i/4]$$\n",
        "  $$W_2'[i]=W_2[mod(i,4)][i/4]$$\n",
        "  Therefore, all MLP Invariances\n",
        "  - Permutation:\n",
        "  \n",
        "  Permutation of each layer can be reversed by permuting the weights or next layer, any permutaion is possible in general, and case of permution over the ATCG dimentions\n",
        "  $$p=\\begin{bmatrix} \n",
        "  0 & 0 & 0 & 1 & 0 & 0 & 0 & 0 & 0 & 0 & 0 & 0\\\\\n",
        "  0 & 0 & 0 & 0 & 1 & 0 & 0 & 0 & 0 & 0 & 0 & 0\\\\\n",
        "  0 & 0 & 0 & 0 & 0 & 1 & 0 & 0 & 0 & 0 & 0 & 0\\\\\n",
        "  1 & 0 & 0 & 0 & 0 & 0 & 0 & 0 & 0 & 0 & 0 & 0\\\\\n",
        "  0 & 1 & 0 & 0 & 0 & 0 & 0 & 0 & 0 & 0 & 0 & 0\\\\\n",
        "  0 & 0 & 1 & 0 & 0 & 0 & 0 & 0 & 0 & 0 & 0 & 0\\\\\n",
        "  0 & 0 & 0 & 0 & 0 & 0 & 0 & 0 & 0 & 1 & 0 & 0\\\\\n",
        "  0 & 0 & 0 & 0 & 0 & 0 & 0 & 0 & 0 & 0 & 1 & 0\\\\\n",
        "  0 & 0 & 0 & 0 & 0 & 0 & 0 & 0 & 0 & 0 & 0 & 1\\\\\n",
        "  1 & 0 & 0 & 0 & 0 & 0 & 0 & 0 & 0 & 0 & 0 & 0\\\\\n",
        "  0 & 1 & 0 & 0 & 0 & 0 & 0 & 0 & 0 & 0 & 0 & 0\\\\\n",
        "  0 & 0 & 1 & 0 & 0 & 0 & 0 & 0 & 0 & 0 & 0 & 0\\\\\n",
        "  \\end{bmatrix}$$\n",
        "  Exmaple for ACTG to CAGT where d=3\n",
        "\n",
        "  - Re-scale:\n",
        "  For Leaky ReLU we have re-scaling simtry for c>0\n",
        "  or for c< 0 we can adjust the leaky parameter to $c\\rho$ and deviding by $\\frac{1}{c}$ after the activation layer\n",
        "* Section 2:\n",
        "\n",
        "  With the ambivalance torwards the order of the input the network needs to adhere\n",
        "  $$f_w(X)=f_w(\\tilde{X})$$\n",
        "  $$\\sum_{r=1}^{4}\\sum_{k=1}^d W_2[r,k]\\phi\\left(\\sum_{j=1}^{4}\\sum_{i=1}^d W_1[r, k,j, i]X[j, i] \\right)=$$$$=\\sum_{r=1}^{4}\\sum_{k=1}^d W_2[r,k]\\phi\\left(\\sum_{j=1}^{4}\\sum_{i=1}^d W_1[r, k,j, i]X[j,d-i+1] \\right)$$\n",
        "  Removing all common factors\n",
        "  $$\\sum_{i=1}^d W_1[r, k,j, i]X[j, i]=\\sum_{i=1}^d W_1[r, k,j, i]X[j,d- i+1] ~;~\\forall r,k,j$$\n",
        "  $$W_1[r,k,j,i]=W_1[r,k,j,d-i+1]~;~\\forall r,k,j$$\n",
        "  The weights of $W_1$ have to have a symmetry to improve the classification\n",
        "\n",
        "\n",
        "* Section 3:\n",
        "\n",
        "  Same as before, plugging the 2 inputs\n",
        "$$\\sum_{i=1}^d W_1[r, k,j, i]X[j, i]=\\sum_{i=1}^d W_1[r, k,j, i]\\tilde{X}[\\bar{j},i] ~;~\\forall r,k,j ~;~s.t~~\\{ \\bar{j}=(j+2)mod(4)\\}$$\n",
        "$$\\sum_{i=1}^d W_1[r, k,j, i]X[j, i]=\\sum_{i=1}^d W_1[r, k,j, i]X[\\bar{j},d-i+1] ~;~\\forall r,k,j$$\n",
        "$$W_1[r,k,j,i]=W_1[r,k,(j+2)mod_4,d-i+1]$$\n",
        "This constraint will cause another factor 2 decrease in number of parameters in the first layer\n",
        "* Section 4:\n",
        "  a. For a trained network, taking both inputs\n",
        "  $$f_w(X)=f_w(\\tilde{X})=\\sum_{r=1}^{4}\\sum_{k=1}^d W_2[r,k]\\phi\\left(\\sum_{j=1}^{4}\\sum_{i=1}^d W_1[r, k,j, i]\\tilde{X}[j, i] \\right)=$$\n",
        "  $$=\\sum_{r=1}^{4}\\sum_{k=1}^d W_2[r,k]\\phi\\left(\\sum_{j=1}^{4}\\sum_{i=1}^d W_1[r, k,j, i]c^{-1}X[j, i] \\right)=$$\n",
        "  $$=\\frac{1}{c}\\sum_{r=1}^{4}\\sum_{k=1}^d W_2[r,k]\\phi\\left(\\sum_{j=1}^{4}\\sum_{i=1}^d W_1[r, k,j, i]\\tilde{X}[j, i] \\right)=\\frac{1}{c}f_w(X)$$\n",
        "  The output is sign(.) of the output\n",
        "  $$\\text{sign}\\left(\\frac{1}{c}f_w(X)\\right)\\underbrace{=}_{c>0}\\text{sign}(f_w(X))$$\n",
        "  Therefore it will not change the results of the network\n",
        "\n",
        "  b. For c>0 small enough it can cause either exploding/deminishing gradients. the constant c can reach power of 3 in a gradient decent process.\n",
        "\n",
        "  c. WE can't use the same tactic as before, we will get the term $cW_1=W_1$ and it will cause $W_1=0$ So we can't have any constraints, but it can decrease model overfitting."
      ]
    },
    {
      "cell_type": "markdown",
      "metadata": {
        "id": "hNB6kkMG4D2O"
      },
      "source": [
        "## <img src=\"https://img.icons8.com/clouds/100/000000/question-mark.png\" style=\"height:50px;display:inline\"> Question 6 -VGG Architecture\n",
        "---\n",
        "\n",
        "1. The VGG-11 CNN architecture consists of 11 convolution (CONV)/fully-connected (FC) layers (every CONV layer has the same padding and stride, every MAXPOOL layer is 2×2 and has padding of 0 and stride 2). Fill in the table. You need to **consider the bias**.\n",
        "\n",
        "\n",
        "* CONV$M$-$N$: a convolutional layer with $N$ neurons, each of size $M \\times M \\times D$, where $D$ is the number of filters. $stride=1, padding=1$ \n",
        "* POOL2: $2 \\times 2$ Max Pooling with $stride=2$\n",
        "    * In case the input of the layer is odd, you should round down. For example, if the output of the layer should be $3.5 \\times 3.5 \\times 3$, you should round to $3 \\times 3 \\times 3$ (i.e., ignore the last column of the input image when performing MaxPooling).\n",
        "* FC-N: a fully connected layer with $N$ neurons.\n",
        "\n",
        "\n",
        "| Layer  | Output Dimension  | Number of Parameters (Weights) |\n",
        "|---|---|---|\n",
        "| INPUT     |  224x224x3  | 0  |\n",
        "|  CONV3-64 | 224x224x64  | 3x3x3x64  | \n",
        "| ReLU      | 224x224x64  | 0  |\n",
        "| POOL2     | 112x112x64  | 0  |\n",
        "|CONV3-128  | 112x112x128 | 3x3x64x128 |\n",
        "|ReLU       | 112x112x128 | 0 |\n",
        "| POOL2     | 66x66x128   | 0 |\n",
        "|CONV3-256  | 66x66x256   | 3x3x128x256|\n",
        "|ReLU       | 66x66x256   | 0 |\n",
        "|CONV3-256  | 66x66x256   | 3x3x256x256|\n",
        "|ReLU       | 66x66x256   | 0 |\n",
        "| POOL2     | 33x33x256   | 0 |\n",
        "|CONV3-512  | 33x33x512   | 3x3x256x512|\n",
        "|ReLU       | 33x33x512   | 0 |\n",
        "|CONV3-512  | 33x33x512   | 3x3x512x512 |\n",
        "|ReLU       | 33x33x512   | 0 |\n",
        "| POOL2     | 16x16x512   | 0 |\n",
        "|CONV3-512  | 16x16x512   | 3x3x512x512|\n",
        "|ReLU       | 16x16x512   | 0 |\n",
        "|CONV3-512  | 16x16x512   | 3x3x512x512 |\n",
        "|ReLU       | 16x16x512   | 0 |\n",
        "| POOL2     | 8x8x512     | 0  |\n",
        "| FC-4096   | 4096        | 8x8x512x4096+4096  |\n",
        "| FC-4096   | 4096        | 4096x4096+4096  |\n",
        "| FC-1000   | 1000        | 4096x1000+1000  |\n",
        "| SOFTMAX   | 1000        | 0  |\n",
        "\n",
        "2. What is the total number of parameters? (use a calculator for this one)\n",
        "    \n",
        "    Params = 9,217,728 + 155,100,136 = 164,317,864\n",
        "3. What percentage of the weights are found in the fully-connected layers?\n",
        "\n",
        "    CONV_percent = CONV_param / param = $100\\cdot \\frac{9217728}{164317864}=5.61$% "
      ]
    },
    {
      "cell_type": "markdown",
      "metadata": {
        "id": "7D-14iM7pGhm"
      },
      "source": [
        "### <img src=\"https://img.icons8.com/officel/80/000000/code.png\" style=\"height:50px;display:inline\"> Part 2 - Code Assignments\n",
        "---\n",
        "* You must write your code in this notebook and save it with the output of all of the code cells.\n",
        "* Additional text can be added in Markdown cells.\n",
        "* You can use any other IDE you like (PyCharm, VSCode...) to write/debug your code, but for the submission you must copy it to this notebook, run the code and save the notebook with the output."
      ]
    },
    {
      "cell_type": "markdown",
      "metadata": {
        "id": "jUt4g58r4D2Q"
      },
      "source": [
        "#### Tips\n",
        "---\n",
        "1. Uniformly distributed tensors - `torch.Tensor(dim1, dim2, ...,dimN).uniform_(-1, 1)`\n",
        "2. Separation to **validation set** in PyTorch - <a href=\"https://gist.github.com/MattKleinsmith/5226a94bad5dd12ed0b871aed98cb123\">See example here</a>."
      ]
    },
    {
      "cell_type": "code",
      "execution_count": 1,
      "metadata": {
        "colab": {
          "base_uri": "https://localhost:8080/"
        },
        "id": "oseyL0pa4D2Q",
        "outputId": "d6116d7f-b05a-4b21-953e-01530a9f948a"
      },
      "outputs": [
        {
          "output_type": "execute_result",
          "data": {
            "text/plain": [
              "<torch._C.Generator at 0x7f241e1e39d0>"
            ]
          },
          "metadata": {},
          "execution_count": 1
        }
      ],
      "source": [
        "# imports for the practice (you can add more if you need)\n",
        "import os\n",
        "import numpy as np\n",
        "import pandas as pd\n",
        "import torch\n",
        "import torch.nn as nn\n",
        "import torchvision\n",
        "import torchvision.transforms as transforms\n",
        "import matplotlib.pyplot as plt\n",
        "import time\n",
        "# %matplotlib notebook\n",
        "%matplotlib inline\n",
        "\n",
        "seed = 211\n",
        "np.random.seed(seed)\n",
        "torch.manual_seed(seed)"
      ]
    },
    {
      "cell_type": "markdown",
      "metadata": {
        "id": "Rm9qGbJw4D2S"
      },
      "source": [
        "### <img src=\"https://img.icons8.com/color/48/000000/code.png\" style=\"height:50px;display:inline\"> Task 1 - The Importance of Activation and Initialization\n",
        "---\n",
        "In this task, we are going to use $x \\in \\mathcal{R}^{512}$ and simple neural network that outputs $f(x) \\in \\mathcal{R}^{512}$. The network will have 100 layers with 512 units in each layer.\n",
        "\n",
        "1. We initialize the weights from a unit normal distribution. Run the following code cell and explain what happens. Add a short piece of code that locates when it happens (hint: use `torch.isnan()`). **Print** the layer number.\n",
        "2. We can demonstrate that at a given layer, the matrix product of inputs $x$ and weight matrix $a$ that is initialized from a standard normal distribution will, on average, have a standard deviation very close to the square root of the number of input connections. For our example, with 512 dimensions, show that for 10,000 multiplications of $a$ and $x$, the empirical standard deviation is similar to the square root of the number of input connections. Use the unbiased version: $$ \\hat{std} = \\sqrt{\\frac{\\sum_{i=1}^{10000}\\frac{1}{N}\\sum_{j=1}^N y^2}{10000}}, $$ where $y=ax$ and $N$ is the number of input connections. **Print** the mean, std and the square root of the number of input connections.\n",
        "3. For the code from 1, normalize the weight initialization by the square root of the input connections. How does that change the outcome? **Print** the mean and std after the modification.\n",
        "4. Add a `tanh()` activation after each layer for the code from 1. **Print** the mean and std after the modification. Explain the result.\n",
        "5. Xavier initialization sets a layer’s weights to values chosen from a random uniform distribution that’s bounded between $$\\pm \\sqrt{\\frac{6}{n_i + n_{i+1}}}$$ where $n_i$ is the number of incoming network connections, or “fan-in,” to the layer, and $ n_{i+1}$ is the number of outgoing network connections from that layer, also known as the “fan-out”. Glorot and Bengio believed that Xavier weight initialization would maintain the variance of activations and back-propagated gradients all the way up or down the layers of a network and demonstrated that networks initialized with Xavier achieved substantially quicker convergence and higher accuracy. Implement **Xavier Uniform** as `xavier_init(fan_in, fan_out)`, a function that returns a tensor initialized according to **Xavier Uniform**. Use it on the simple network from 1 with `tanh` activation. **Print** the mean and std after the modification.\n",
        "6. If you try to replace the `tanh` activation with `relu` activation in section 5, you will see very different results. Xavier strives to acheive activation outputs of each layer to have a mean of 0 and a standard deviation around 1, on average. When using a ReLU activation, a single layer will, on average have standard deviation that’s very close to the square root of the number of input connections, **divided by the square root of two** ($\\sqrt{\\frac{512}{2}}$ in our example). **Kaiming He et. al.** proposed an initialization scheme that’s tailored for deep neural nets that use these kinds of asymmetric, non-linear activations. Implement **Kaiming Normal** as `kaiming_init(fan_in, fan_out)`, a function that returns a tensor initialized according to **Kaiming Normal** (use `fan_in` mode). Use it on the simple network from 1 with `relu` activation. **Print** the mean and std after the modification. What happens when you use Xavier with RelU activation?"
      ]
    },
    {
      "cell_type": "code",
      "execution_count": 2,
      "metadata": {
        "colab": {
          "base_uri": "https://localhost:8080/"
        },
        "id": "s3D8bLB24D2U",
        "outputId": "4d223c19-7bb9-4ec0-dfb5-c8386ccdb5f6"
      },
      "outputs": [
        {
          "output_type": "stream",
          "name": "stdout",
          "text": [
            "Vector has a NaN value at layer 28\n",
            "tensor(nan) tensor(nan)\n"
          ]
        }
      ],
      "source": [
        "x = torch.randn(512)\n",
        "for i in range(100):\n",
        "    a = torch.randn(512, 512)\n",
        "    x = a @ x\n",
        "    if torch.any(torch.isnan(x)):\n",
        "      print(r'Vector has a NaN value at layer {}'.format(i))\n",
        "      break\n",
        "print(x.mean(), x.std())\n"
      ]
    },
    {
      "cell_type": "markdown",
      "metadata": {
        "id": "BIxmCzYO4D2V"
      },
      "source": [
        "Your answers here"
      ]
    },
    {
      "cell_type": "code",
      "execution_count": 3,
      "metadata": {
        "colab": {
          "base_uri": "https://localhost:8080/"
        },
        "id": "hHVihOxp4D2V",
        "outputId": "a232f698-db05-433f-e075-3550be31f368"
      },
      "outputs": [
        {
          "output_type": "stream",
          "name": "stdout",
          "text": [
            "Empirical mean on vector y is: 0.00717\n",
            "Empirical std on vector y is: 22.62178\n",
            "Square root of input connections: 22.62742\n"
          ]
        }
      ],
      "source": [
        "# Section 2\n",
        "std = torch.Tensor([0])\n",
        "mean = torch.Tensor([0])\n",
        "itr = 10000\n",
        "in_layer = 512\n",
        "for i in range(itr):\n",
        "  x = torch.randn(in_layer)\n",
        "  a = torch.randn(in_layer, in_layer)\n",
        "  y = a @ x\n",
        "  mean += y.mean() / itr\n",
        "  std += (y @ y) / (in_layer * itr)\n",
        "std = torch.sqrt(std)\n",
        "\n",
        "print(r'Empirical mean on vector y is: {:.5f}'.format(float(mean)))\n",
        "print(r'Empirical std on vector y is: {:.5f}'.format(float(std)))\n",
        "print(r'Square root of input connections: {:.5f}'.format(float((np.sqrt(in_layer)))))\n"
      ]
    },
    {
      "cell_type": "code",
      "source": [
        "def simple_net(in_layer=512, iter=100, std=1, dist=torch.randn, activation=torch.Tensor):\n",
        "  x = torch.randn(in_layer)\n",
        "  for i in range(iter):\n",
        "      a = dist(in_layer, in_layer) * std\n",
        "      x = activation(a @ x)\n",
        "      if torch.any(torch.isnan(x)):\n",
        "        print(r'Vector has a NaN value at layer {}'.format(i))\n",
        "        break\n",
        "  print(r'Empirical mean on x: {:05f}'.format(float(x.mean())))\n",
        "  print(r'Empirical std on x: {:05f}'.format(float(x.std())))\n",
        "\n",
        "\n",
        "# Section 3\n",
        "print(\"Normalized std\")\n",
        "simple_net(std=torch.sqrt(torch.Tensor([1 / 512])))\n",
        "\n",
        "# Section 4\n",
        "print(\"\\ntanh activation\")\n",
        "simple_net(activation=torch.tanh)\n"
      ],
      "metadata": {
        "colab": {
          "base_uri": "https://localhost:8080/"
        },
        "id": "wJbYnGpAJFgs",
        "outputId": "0c054af1-3046-4a11-99a5-2015fe8b68e0"
      },
      "execution_count": 4,
      "outputs": [
        {
          "output_type": "stream",
          "name": "stdout",
          "text": [
            "Normalized std\n",
            "Empirical mean on x: 0.024521\n",
            "Empirical std on x: 0.873145\n",
            "\n",
            "tanh activation\n",
            "Empirical mean on x: 0.039061\n",
            "Empirical std on x: 0.980778\n"
          ]
        }
      ]
    },
    {
      "cell_type": "code",
      "source": [
        "def xavier_init(fan_in, fan_out):\n",
        "  limit = torch.sqrt(torch.Tensor([6 / (fan_in + fan_out)]))\n",
        "  return limit * torch.Tensor(fan_in, fan_out).uniform_(-1,1)\n",
        "\n",
        "\n",
        "# Section 5\n",
        "print(\"Xavier init\")\n",
        "simple_net(dist=xavier_init, activation=torch.tanh)\n"
      ],
      "metadata": {
        "colab": {
          "base_uri": "https://localhost:8080/"
        },
        "id": "Py14iP303k8G",
        "outputId": "43ee9c8d-9392-4400-9dfd-dfc821cfa4f7"
      },
      "execution_count": 5,
      "outputs": [
        {
          "output_type": "stream",
          "name": "stdout",
          "text": [
            "Xavier init\n",
            "Empirical mean on x: 0.001691\n",
            "Empirical std on x: 0.063360\n"
          ]
        }
      ]
    },
    {
      "cell_type": "code",
      "source": [
        "def kaiming_init(fan_in, fan_out):\n",
        "  std = torch.sqrt(torch.Tensor([2 / fan_in]))\n",
        "  return std * torch.randn(fan_in, fan_out)\n",
        "\n",
        "\n",
        "# Section 6\n",
        "print(\"Kaiming init\")\n",
        "simple_net(dist=kaiming_init, activation=torch.relu)\n",
        "\n",
        "print(\"\\nXavier init and reLU\")\n",
        "simple_net(dist=xavier_init, activation=torch.relu)"
      ],
      "metadata": {
        "colab": {
          "base_uri": "https://localhost:8080/"
        },
        "id": "4e4-rOTE5c6t",
        "outputId": "070899e0-8ee5-4107-94a5-1122be24c3dc"
      },
      "execution_count": 6,
      "outputs": [
        {
          "output_type": "stream",
          "name": "stdout",
          "text": [
            "Kaiming init\n",
            "Empirical mean on x: 0.132280\n",
            "Empirical std on x: 0.189079\n",
            "\n",
            "Xavier init and reLU\n",
            "Empirical mean on x: 0.000000\n",
            "Empirical std on x: 0.000000\n"
          ]
        }
      ]
    },
    {
      "cell_type": "markdown",
      "metadata": {
        "id": "hAzlh8rU4D2W"
      },
      "source": [
        "### <img src=\"https://img.icons8.com/color/48/000000/code.png\" style=\"height:50px;display:inline\"> Task 2 - FashionMNIST Deep Classifer\n",
        "---\n",
        "In this task you are going to design and train your first neural network for classification.\n",
        "1. Load the FashionMNIST dataset `torchvision.datasets.FashionMNIST` and display 6 images with their labels from the dataset.\n",
        "2. Design a **MLP** to classify images from the FashionMNIST dataset. **You need to reach at least 85% accuracy on the test set, and 89% for a full grade**.\n",
        "    * You have a free choice of architecture, optimizer, learning scheduler, initialization, regularization and activations.\n",
        "    * In a Markdown block, write down the chosen architectures and all the hyper-parameters.\n",
        "    * **Plot** the loss curves (and any oter statistic you want) as a function of epochs/iterations.\n",
        "    * **Print** the test accuracy.\n",
        "3. Change the initialization of the linear layers and re-train the model. You can pick an initialization of your choosing from : https://pytorch.org/docs/stable/nn.init.html . See example below how to use. **Print** the change in accuracy."
      ]
    },
    {
      "cell_type": "code",
      "source": [
        "fc_layer = [\n",
        "            nn.Dropout(p=0.1),\n",
        "            nn.Linear(4096, 1024),\n",
        "            nn.ReLU(inplace=True),\n",
        "            nn.Dropout(p=0.1),\n",
        "            nn.Linear(1024, 512),\n",
        "            nn.ReLU(inplace=True),\n",
        "            nn.Linear(512, 128),\n",
        "            nn.ReLU(inplace=True),\n",
        "            nn.Dropout(p=0.1),\n",
        "            nn.Linear(128, 32),\n",
        "            nn.ReLU(inplace=True),\n",
        "            nn.Linear(32, 10)\n",
        "]"
      ],
      "metadata": {
        "id": "QeP-LeADGyR3"
      },
      "execution_count": 7,
      "outputs": []
    },
    {
      "cell_type": "code",
      "source": [
        "MLP_layer = [nn.Linear(28*28, 1024),\n",
        "             nn.ReLU(inplace=True),\n",
        "             #nn.Linear(512, 1024),\n",
        "             #nn.ReLU(inplace=True),\n",
        "             #nn.Linear(1024, 1024),\n",
        "             #nn.ReLU(inplace=True),\n",
        "             nn.Linear(1024, 2048),\n",
        "             nn.ReLU(inplace=True),\n",
        "             nn.Linear(2048, 4096),\n",
        "             nn.ReLU(inplace=True),\n",
        "             #nn.Linear(1024, 1024),\n",
        "             #nn.ReLU(inplace=True)\n",
        "             #nn.Linear(4096, 4096),\n",
        "             #nn.ReLU(inplace=True)]\n",
        "]"
      ],
      "metadata": {
        "id": "MoylWxJB3GKu"
      },
      "execution_count": 8,
      "outputs": []
    },
    {
      "cell_type": "code",
      "source": [
        "conv_layer=[\n",
        "            # Conv Layer block 1\n",
        "            nn.Conv2d(in_channels=3, out_channels=32, kernel_size=3, padding=1),\n",
        "            nn.BatchNorm2d(32),\n",
        "            nn.ReLU(inplace=True),\n",
        "            nn.Conv2d(in_channels=32, out_channels=64, kernel_size=3, padding=1),\n",
        "            nn.ReLU(inplace=True),\n",
        "            nn.BatchNorm2d(64),\n",
        "            nn.MaxPool2d(kernel_size=2, stride=2),\n",
        "            # 16x16x64\n",
        "            # Conv Layer block 2\n",
        "            nn.Conv2d(in_channels=64, out_channels=128, kernel_size=3, padding=1),\n",
        "            nn.BatchNorm2d(128),\n",
        "            nn.ReLU(inplace=True),\n",
        "            nn.Conv2d(in_channels=128, out_channels=128, kernel_size=3, padding=1),\n",
        "            nn.BatchNorm2d(128),\n",
        "            nn.ReLU(inplace=True),\n",
        "            nn.MaxPool2d(kernel_size=2, stride=2),\n",
        "            nn.Dropout2d(p=0.05),\n",
        "            # 8x8x128\n",
        "            # Conv Layer block 3\n",
        "            nn.Conv2d(in_channels=128, out_channels=256, kernel_size=3, padding=1),\n",
        "            nn.BatchNorm2d(256),\n",
        "            nn.ReLU(inplace=True),\n",
        "            nn.Conv2d(in_channels=256, out_channels=256, kernel_size=3, padding=1),\n",
        "            nn.BatchNorm2d(256),\n",
        "            nn.ReLU(inplace=True),\n",
        "            nn.MaxPool2d(kernel_size=2, stride=2)]\n",
        "            #4x4x256"
      ],
      "metadata": {
        "id": "_1-3Sy2CGud3"
      },
      "execution_count": 9,
      "outputs": []
    },
    {
      "cell_type": "code",
      "execution_count": 10,
      "metadata": {
        "id": "_VOObnYp4D2W"
      },
      "outputs": [],
      "source": [
        "# example of weight initialization\n",
        "import torch.nn as nn\n",
        "\n",
        "def init_normal(m):\n",
        "  #std = torch.sqrt((torch.Tensor([1/m.shape[1]]))) * torch.sqrt(torch.Tensor([2]))\n",
        "  std = (m.shape[0] ** -0.5) * (2 ** 0.5)\n",
        "  nn.init.normal_(m, 0, std)\n",
        "\n",
        "\n",
        "def init_kaiming_normal(m):\n",
        "  nn.init.kaiming_normal_(m, mode='fan_out', nonlinearity='relu')\n",
        "\n",
        "\n",
        "class MyModel(nn.Module):\n",
        "    def __init__(self, mlp_param, lin_param, init=init_normal):\n",
        "        super(MyModel, self).__init__()\n",
        "        # model definitions/blocks\n",
        "        self.mlp_layer = nn.Sequential(*mlp_param)\n",
        "        self.fc_layer = nn.Sequential(*lin_param)\n",
        "        self.init_model = init\n",
        "        # custom initialization\n",
        "        self.init_weights()\n",
        "\n",
        "    def init_weights(self):\n",
        "        for m in self.modules():\n",
        "            if isinstance(m, nn.Linear):\n",
        "                # pick initialzation: https://pytorch.org/docs/stable/nn.init.html\n",
        "                # examples\n",
        "                # nn.init.kaiming_normal_(m.weight, mode='fan_out', nonlinearity='relu')\n",
        "                # nn.init.kaiming_normal_(m.weight, mode='fan_in', nonlinearity='leaky_relu', a=math.sqrt(5))\n",
        "                #nn.init.normal_(m.weight, 0, 0.005)\n",
        "                # don't forget the bias term (m.bias)\n",
        "                self.init_model(m.weight)\n",
        "\n",
        "    def forward(self, x):\n",
        "        x = x.view(x.size(0), -1)\n",
        "        x = self.mlp_layer(x)\n",
        "        x = self.fc_layer(x)\n",
        "        return x"
      ]
    },
    {
      "cell_type": "code",
      "source": [
        "def show_examples(dataSet, classes,qt):\n",
        "  trainloader = torch.utils.data.DataLoader(dataSet, batch_size=qt, shuffle=True)\n",
        "  imgs, labels = iter(trainloader).next()\n",
        "  imgs = imgs / 2 + 0.5\n",
        "  imgs = imgs.numpy() #BxHxW to BxHxW\n",
        "  if (imgs.shape[1] == 3):\n",
        "    imgs = imgs.transpose(0,2,3,1)\n",
        "    cmap=\"viridis\"\n",
        "  elif (imgs.shape[1] == 1):\n",
        "    imgs = imgs.transpose(1,0,2,3)[0]\n",
        "    cmap = \"gray\"\n",
        "  print(imgs.shape) # For debug\n",
        "  rows = int((qt / 3)+0.7)\n",
        "  fig, ax = plt.subplots(3, rows, figsize=(12,12))\n",
        "  for i, img in enumerate(imgs):\n",
        "    ax[i%3][int(i/3)].imshow(img, cmap=cmap)\n",
        "    ax[i%3][int(i/3)].set_title(classes[labels[i]])\n",
        "    ax[i%3][int(i/3)].set_xticks([])\n",
        "    ax[i%3][int(i/3)].set_yticks([])"
      ],
      "metadata": {
        "id": "X-8r_MSHm_gZ"
      },
      "execution_count": 11,
      "outputs": []
    },
    {
      "cell_type": "code",
      "execution_count": 12,
      "metadata": {
        "colab": {
          "base_uri": "https://localhost:8080/",
          "height": 720
        },
        "id": "-9PeQdrw4D2W",
        "outputId": "a7859eb4-e0cc-4ccb-d96f-539840aba3da"
      },
      "outputs": [
        {
          "output_type": "stream",
          "name": "stdout",
          "text": [
            "(6, 28, 28)\n"
          ]
        },
        {
          "output_type": "display_data",
          "data": {
            "image/png": "[encoded data removed]",
            "text/plain": [
              "<Figure size 864x864 with 6 Axes>"
            ]
          },
          "metadata": {}
        }
      ],
      "source": [
        "# Get Dataset and show\n",
        "train_transform = transforms.Compose([\n",
        "                                      #transforms.RandomCrop(28, padding=4),\n",
        "                                      transforms.RandomHorizontalFlip(),\n",
        "                                      transforms.ToTensor()])\n",
        "\n",
        "test_transform = transforms.Compose([\n",
        "                                      transforms.ToTensor()])\n",
        "\n",
        "FMNIST_classes = ['Top', 'Trouser', 'Pullover', 'Dress', 'Coat', 'Sandal', 'Shirt', 'Sneaker', 'Bag', 'Ankel boot']\n",
        "train_set = torchvision.datasets.FashionMNIST(root='./datasets', train=True, download=True, transform=train_transform)\n",
        "test_set = torchvision.datasets.FashionMNIST(root='./datasets', train=False, download=True, transform=test_transform)\n",
        "\n",
        "show_examples(test_set, FMNIST_classes, 6)"
      ]
    },
    {
      "cell_type": "code",
      "source": [
        "# MLP dict\n",
        "# time to train our model\n",
        "# hyper-parameters\n",
        "\n",
        "batch_size = 256\n",
        "learning_rate = 1e-3\n",
        "epochs = 20\n",
        "\n",
        "\n",
        "# dataloaders - creating batches and shuffling the data\n",
        "trainloader = torch.utils.data.DataLoader(\n",
        "    train_set, batch_size=batch_size, shuffle=True, num_workers=2)\n",
        "testloader = torch.utils.data.DataLoader(\n",
        "    test_set, batch_size=batch_size, shuffle=False, num_workers=2)\n",
        "\n",
        "# device - cpu or gpu?\n",
        "device = torch.device(\"cuda:0\" if torch.cuda.is_available() else \"cpu\")\n",
        "\n",
        "# loss criterion\n",
        "criterion = nn.CrossEntropyLoss()\n",
        "\n",
        "# build our model and send it to the device\n",
        "model = MyModel(MLP_layer, fc_layer).to(device) # no need for parameters as we alredy defined them in the class\n",
        "\n",
        "# optimizer - SGD, Adam, RMSProp...\n",
        "optimizer = torch.optim.Adam(model.parameters(), lr=learning_rate)\n",
        "scheduler = torch.optim.lr_scheduler.MultiStepLR(optimizer,milestones=[7,14], gamma=0.2)\n",
        "model_dict = {'model': model,\n",
        "              'criterion': criterion,\n",
        "              'optimizer': optimizer,\n",
        "              'scheduler': scheduler,\n",
        "              'epochs': epochs,\n",
        "              'trainloader': trainloader,\n",
        "              'testloader': testloader,\n",
        "              'device': device}"
      ],
      "metadata": {
        "id": "nx948m7LC4L-"
      },
      "execution_count": 13,
      "outputs": []
    },
    {
      "cell_type": "code",
      "source": [
        "def calculate_accuracy(model, dataloader, criterion, device):\n",
        "    model.eval() # put in evaluation mode\n",
        "    total_correct = 0\n",
        "    total_images = 0\n",
        "    total_loss = 0\n",
        "    confusion_matrix = np.zeros([10,10], int)\n",
        "    with torch.no_grad():\n",
        "        for data in dataloader:\n",
        "            images, labels = data\n",
        "            images = images.to(device)\n",
        "            labels = labels.to(device)\n",
        "            outputs = model(images)\n",
        "            _, predicted = torch.max(outputs.data, 1)\n",
        "            total_images += labels.size(0)\n",
        "            total_correct += (predicted == labels).sum().item()\n",
        "            total_loss += criterion(outputs, labels).data.item() / len(dataloader)\n",
        "            for i, l in enumerate(labels):\n",
        "                confusion_matrix[l.item(), predicted[i].item()] += 1 \n",
        "\n",
        "    model_accuracy = total_correct / total_images * 100\n",
        "    return model_accuracy, confusion_matrix, total_loss"
      ],
      "metadata": {
        "id": "W96HIA0bHO4z"
      },
      "execution_count": 14,
      "outputs": []
    },
    {
      "cell_type": "code",
      "source": [
        "def train_model(model_dict):\n",
        "  model = model_dict['model']\n",
        "  criterion = model_dict['criterion']\n",
        "  optimizer = model_dict['optimizer']\n",
        "  epochs = model_dict['epochs']\n",
        "  trainloader = model_dict['trainloader']\n",
        "  testloader = model_dict['testloader']\n",
        "  device= model_dict['device']\n",
        "  scheduler = model_dict['scheduler']\n",
        "\n",
        "  # training loop\n",
        "  train_error = []\n",
        "  test_error = []\n",
        "  for epoch in range(1, epochs + 1):\n",
        "      model.train()  # put in training mode\n",
        "      running_loss = 0.0\n",
        "      epoch_time = time.time()\n",
        "      for i, data in enumerate(trainloader, 0):\n",
        "          # get the inputs\n",
        "          inputs, labels = data\n",
        "          # send them to device\n",
        "          inputs = inputs.to(device)\n",
        "          labels = labels.to(device)\n",
        "\n",
        "          # forward + backward + optimize\n",
        "          outputs = model(inputs)  # forward pass\n",
        "          loss = criterion(outputs, labels)  # calculate the loss\n",
        "          # always the same 3 steps\n",
        "          optimizer.zero_grad()  # zero the parameter gradients\n",
        "          loss.backward()  # backpropagation\n",
        "          optimizer.step()  # update parameters\n",
        "\n",
        "          # print statistics\n",
        "          train_error.append(loss.data.item())\n",
        "          running_loss += loss.data.item()\n",
        "\n",
        "      # Normalizing the loss by the total number of train batches\n",
        "      scheduler.step()\n",
        "      running_loss /= len(trainloader)\n",
        "\n",
        "      # Calculate training/test set accuracy of the existing model\n",
        "      train_accuracy, _, _= calculate_accuracy(model, trainloader, criterion, device)\n",
        "      test_accuracy, _, test_loss = calculate_accuracy(model, testloader, criterion, device)\n",
        "      test_error.append(test_loss)\n",
        "      log = \"Epoch: {:2d} | Loss: {:.4f} | Training accuracy: {:.3f}% | Test accuracy: {:.3f}% | \".format(epoch, running_loss, train_accuracy, test_accuracy)\n",
        "      #train_error.append(running_loss)\n",
        "      epoch_time = time.time() - epoch_time\n",
        "      log += \"Epoch Time: {:.2f} secs\".format(epoch_time)\n",
        "      print(log)\n",
        "    \n",
        "#     # save model\n",
        "#      if epoch % 20 == 0:\n",
        "#          print('==> Saving model ...')\n",
        "#          state = {\n",
        "#              'net': model.state_dict(),\n",
        "#              'epoch': epoch,\n",
        "#         }\n",
        "#          if not os.path.isdir('checkpoints'):\n",
        "#              os.mkdir('checkpoints')\n",
        "#          torch.save(state, './checkpoints/cifar_cnn_ckpt.pth')\n",
        "\n",
        "  print('==> Finished Training ...')\n",
        "\n",
        "  #fig, ax = plt.subplots(1, 1, figsize=(12,12))\n",
        "  batches = len(trainloader)\n",
        "  itr = list(range(epochs * batches))\n",
        "  plt.plot(itr, train_error, 'r--', label='Train batch loss', linewidth=0.5)\n",
        "  itr = list(range(batches,(epochs * len(trainloader)+batches), batches))\n",
        "  plt.plot(itr, test_error, color='g', label='Test Epoch loss', linewidth= 3)\n",
        "  plt.title('Loss')\n",
        "  plt.xlabel('Batch')\n",
        "  plt.ylim(0, max(train_error))\n",
        "  plt.ylabel('Loss')\n",
        "  plt.legend()\n",
        "  plt.show()"
      ],
      "metadata": {
        "id": "o3N0Ho53HYqI"
      },
      "execution_count": 15,
      "outputs": []
    },
    {
      "cell_type": "code",
      "source": [
        "train_model(model_dict)"
      ],
      "metadata": {
        "colab": {
          "base_uri": "https://localhost:8080/",
          "height": 660
        },
        "id": "hcjum5A5dlhi",
        "outputId": "70aabd5e-e6dd-48f7-e380-fb18795865c7"
      },
      "execution_count": 16,
      "outputs": [
        {
          "output_type": "stream",
          "name": "stdout",
          "text": [
            "Epoch:  1 | Loss: 1.3392 | Training accuracy: 85.260% | Test accuracy: 84.070% | Epoch Time: 28.54 secs\n",
            "Epoch:  2 | Loss: 0.4267 | Training accuracy: 86.722% | Test accuracy: 85.000% | Epoch Time: 28.58 secs\n",
            "Epoch:  3 | Loss: 0.3734 | Training accuracy: 87.832% | Test accuracy: 85.840% | Epoch Time: 30.36 secs\n",
            "Epoch:  4 | Loss: 0.3532 | Training accuracy: 88.845% | Test accuracy: 86.790% | Epoch Time: 29.91 secs\n",
            "Epoch:  5 | Loss: 0.3298 | Training accuracy: 89.325% | Test accuracy: 87.240% | Epoch Time: 29.45 secs\n",
            "Epoch:  6 | Loss: 0.3132 | Training accuracy: 89.775% | Test accuracy: 87.190% | Epoch Time: 29.23 secs\n",
            "Epoch:  7 | Loss: 0.3028 | Training accuracy: 89.240% | Test accuracy: 87.330% | Epoch Time: 29.75 secs\n",
            "Epoch:  8 | Loss: 0.2454 | Training accuracy: 91.663% | Test accuracy: 88.740% | Epoch Time: 29.80 secs\n",
            "Epoch:  9 | Loss: 0.2279 | Training accuracy: 91.953% | Test accuracy: 89.230% | Epoch Time: 30.07 secs\n",
            "Epoch: 10 | Loss: 0.2188 | Training accuracy: 92.227% | Test accuracy: 89.210% | Epoch Time: 29.64 secs\n",
            "Epoch: 11 | Loss: 0.2141 | Training accuracy: 92.723% | Test accuracy: 89.060% | Epoch Time: 34.07 secs\n",
            "Epoch: 12 | Loss: 0.2044 | Training accuracy: 93.205% | Test accuracy: 89.190% | Epoch Time: 30.43 secs\n",
            "Epoch: 13 | Loss: 0.1978 | Training accuracy: 93.085% | Test accuracy: 89.290% | Epoch Time: 30.44 secs\n",
            "Epoch: 14 | Loss: 0.1897 | Training accuracy: 93.632% | Test accuracy: 89.160% | Epoch Time: 31.19 secs\n",
            "Epoch: 15 | Loss: 0.1654 | Training accuracy: 94.302% | Test accuracy: 89.410% | Epoch Time: 30.46 secs\n",
            "Epoch: 16 | Loss: 0.1582 | Training accuracy: 94.457% | Test accuracy: 89.420% | Epoch Time: 30.44 secs\n",
            "Epoch: 17 | Loss: 0.1529 | Training accuracy: 94.682% | Test accuracy: 89.550% | Epoch Time: 30.27 secs\n",
            "Epoch: 18 | Loss: 0.1486 | Training accuracy: 94.945% | Test accuracy: 89.580% | Epoch Time: 30.25 secs\n",
            "Epoch: 19 | Loss: 0.1439 | Training accuracy: 95.170% | Test accuracy: 89.710% | Epoch Time: 30.63 secs\n",
            "Epoch: 20 | Loss: 0.1396 | Training accuracy: 95.287% | Test accuracy: 89.890% | Epoch Time: 30.57 secs\n",
            "==> Finished Training ...\n"
          ]
        },
        {
          "output_type": "display_data",
          "data": {
            "image/png": "[encoded data removed]",
            "text/plain": [
              "<Figure size 432x288 with 1 Axes>"
            ]
          },
          "metadata": {
            "needs_background": "light"
          }
        }
      ]
    },
    {
      "cell_type": "code",
      "source": [
        "model = MyModel(MLP_layer, fc_layer, init_kaiming_normal).to(device) # no need for parameters as we alredy defined them in the class\n",
        "\n",
        "# optimizer - SGD, Adam, RMSProp...\n",
        "optimizer = torch.optim.Adam(model.parameters(), lr=learning_rate)\n",
        "scheduler = torch.optim.lr_scheduler.MultiStepLR(optimizer, milestones=[7,14], gamma=0.2)\n",
        "\n",
        "model_dict['model'] = model\n",
        "model_dict['optimizer'] = optimizer\n",
        "model_dict['scheduler'] = scheduler\n",
        "train_model(model_dict)"
      ],
      "metadata": {
        "id": "uUqx5SvkraAA",
        "outputId": "6242dc9e-876c-4bb4-ec1b-d5392776087e",
        "colab": {
          "base_uri": "https://localhost:8080/",
          "height": 660
        }
      },
      "execution_count": 17,
      "outputs": [
        {
          "output_type": "stream",
          "name": "stdout",
          "text": [
            "Epoch:  1 | Loss: 1.2360 | Training accuracy: 84.762% | Test accuracy: 83.700% | Epoch Time: 30.82 secs\n",
            "Epoch:  2 | Loss: 0.4271 | Training accuracy: 86.737% | Test accuracy: 85.220% | Epoch Time: 30.88 secs\n",
            "Epoch:  3 | Loss: 0.3741 | Training accuracy: 87.952% | Test accuracy: 86.130% | Epoch Time: 30.71 secs\n",
            "Epoch:  4 | Loss: 0.3523 | Training accuracy: 88.103% | Test accuracy: 86.010% | Epoch Time: 30.45 secs\n",
            "Epoch:  5 | Loss: 0.3271 | Training accuracy: 88.773% | Test accuracy: 86.520% | Epoch Time: 30.51 secs\n",
            "Epoch:  6 | Loss: 0.3098 | Training accuracy: 89.060% | Test accuracy: 86.630% | Epoch Time: 29.97 secs\n",
            "Epoch:  7 | Loss: 0.3017 | Training accuracy: 89.847% | Test accuracy: 87.330% | Epoch Time: 29.79 secs\n",
            "Epoch:  8 | Loss: 0.2431 | Training accuracy: 91.680% | Test accuracy: 88.720% | Epoch Time: 29.70 secs\n",
            "Epoch:  9 | Loss: 0.2277 | Training accuracy: 92.048% | Test accuracy: 88.860% | Epoch Time: 29.81 secs\n",
            "Epoch: 10 | Loss: 0.2167 | Training accuracy: 92.380% | Test accuracy: 89.140% | Epoch Time: 30.04 secs\n",
            "Epoch: 11 | Loss: 0.2069 | Training accuracy: 92.820% | Test accuracy: 89.180% | Epoch Time: 29.99 secs\n",
            "Epoch: 12 | Loss: 0.2004 | Training accuracy: 93.077% | Test accuracy: 89.500% | Epoch Time: 29.34 secs\n",
            "Epoch: 13 | Loss: 0.1948 | Training accuracy: 93.323% | Test accuracy: 89.250% | Epoch Time: 29.22 secs\n",
            "Epoch: 14 | Loss: 0.1880 | Training accuracy: 93.745% | Test accuracy: 89.580% | Epoch Time: 29.13 secs\n",
            "Epoch: 15 | Loss: 0.1628 | Training accuracy: 94.348% | Test accuracy: 89.730% | Epoch Time: 29.04 secs\n",
            "Epoch: 16 | Loss: 0.1546 | Training accuracy: 94.425% | Test accuracy: 89.730% | Epoch Time: 28.80 secs\n",
            "Epoch: 17 | Loss: 0.1509 | Training accuracy: 94.757% | Test accuracy: 90.100% | Epoch Time: 28.85 secs\n",
            "Epoch: 18 | Loss: 0.1456 | Training accuracy: 94.853% | Test accuracy: 90.010% | Epoch Time: 28.82 secs\n",
            "Epoch: 19 | Loss: 0.1418 | Training accuracy: 95.068% | Test accuracy: 90.020% | Epoch Time: 28.99 secs\n",
            "Epoch: 20 | Loss: 0.1379 | Training accuracy: 95.240% | Test accuracy: 89.770% | Epoch Time: 28.95 secs\n",
            "==> Finished Training ...\n"
          ]
        },
        {
          "output_type": "display_data",
          "data": {
            "image/png": "[encoded data removed]",
            "text/plain": [
              "<Figure size 432x288 with 1 Axes>"
            ]
          },
          "metadata": {
            "needs_background": "light"
          }
        }
      ]
    },
    {
      "cell_type": "markdown",
      "metadata": {
        "id": "457Q4JbR4D2X"
      },
      "source": [
        "### <img src=\"https://img.icons8.com/color/48/000000/code.png\" style=\"height:50px;display:inline\"> Task 3 - Design a CNN\n",
        "---\n",
        "In this task you are going to design a deep convolutional neural network to classify house number digits from the **The Street View House Numbers (SVHN)** Dataset. \n",
        "\n",
        "SVHN is a real-world image dataset for developing machine learning and object recognition algorithms with minimal requirement on data preprocessing and formatting. It can be seen as similar in flavor to MNIST (e.g., the images are of small cropped digits), but incorporates an order of magnitude more labeled data (over 600,000 digit images) and comes from a significantly harder, unsolved, real world problem (recognizing digits and numbers in natural scene images). SVHN is obtained from house numbers in Google Street View images.\n",
        "\n",
        "* 10 classes, 1 for each digit. Digit '0' has label 0, '1' has label 1,...\n",
        "* 73257 digits for training, 26032 digits for testing, and 531131 additional, somewhat less difficult samples, to use as extra training data.\n",
        "\n",
        "<img src=\"http://ufldl.stanford.edu/housenumbers/32x32eg.png\" style=\"height:250px\">\n",
        "\n",
        "1. Load the SVHN dataset with PyTorch using `torchvision.datasets.SVHN(root, split='train', transform=None, target_transform=None, download=True)`, you can read more here: https://pytorch.org/docs/stable/torchvision/datasets.html#svhn. Display 5 images from the train set.\n",
        "2. Design a Convolutional Neural Network (CNN) to classify digits from the images.\n",
        "    * Describe the chosen architecture, how many layers? What activations did you choose? What are the filter sizes? Did you use fully-connected layers (if you did, explain their sizes)?\n",
        "    * What is the input dimension? What is the output dimension?\n",
        "    * Calculate the number of parameters (weights) in the network. **Print** this number.\n",
        "3. Train the classifier (preferably on a GPU - use Colab for this part if you don't have a GPU).\n",
        "    * Describe the the hyper-parameters of the model (batch size, epochs, learning rate....). How did you tune your model? Did you use a validation set to tune the model?\n",
        "    * What is the final accuracy on the test set? **Print** it.\n",
        "        * You need to reach at least 86% accuracy in this section, and 90% for a full grade.\n",
        "    * **Plot** the loss curves (and any other statistic you want) as a function of epochs/iterations.\n",
        "4. For the trained classifier, what is the accuracy on the test set when each test image is added a small noise $a=(0.05, 0.01, 0.005)$: $$ \\text{image} + a \\times \\mathcal{N}(0, 1) $$. **Print** the result for each value of $a$.\n",
        "5. Retrain the classifier, but this time use data augementation of your choosing. Briefly explain what augmentation you chose and how it works. Did the test accuracy improve? **Print** the result.\n",
        "    * You can use transformations available in `torchvision.transforms` as shown in the tutorial.\n",
        "    * You are welcome to use <a href=\"https://kornia.github.io/\">`kornia`</a> for the augmentations.\n",
        "    * **Plot** the loss curves (and any other statistic you want) as a function of epochs/iterations."
      ]
    },
    {
      "cell_type": "code",
      "execution_count": 18,
      "metadata": {
        "id": "Au1PU2314D2X",
        "outputId": "0c8b5ee9-19b9-4dc8-e647-bdee6ef50eb8",
        "colab": {
          "base_uri": "https://localhost:8080/",
          "height": 855
        }
      },
      "outputs": [
        {
          "output_type": "stream",
          "name": "stdout",
          "text": [
            "Using downloaded and verified file: ./datasets_svhn/train_32x32.mat\n",
            "Using downloaded and verified file: ./datasets_svhn/test_32x32.mat\n"
          ]
        },
        {
          "output_type": "stream",
          "name": "stderr",
          "text": [
            "Clipping input data to the valid range for imshow with RGB data ([0..1] for floats or [0..255] for integers).\n",
            "Clipping input data to the valid range for imshow with RGB data ([0..1] for floats or [0..255] for integers).\n",
            "Clipping input data to the valid range for imshow with RGB data ([0..1] for floats or [0..255] for integers).\n",
            "Clipping input data to the valid range for imshow with RGB data ([0..1] for floats or [0..255] for integers).\n",
            "Clipping input data to the valid range for imshow with RGB data ([0..1] for floats or [0..255] for integers).\n"
          ]
        },
        {
          "output_type": "stream",
          "name": "stdout",
          "text": [
            "(5, 32, 32, 3)\n"
          ]
        },
        {
          "output_type": "display_data",
          "data": {
            "image/png": "[encoded data removed]",
            "text/plain": [
              "<Figure size 864x864 with 6 Axes>"
            ]
          },
          "metadata": {
            "needs_background": "light"
          }
        }
      ],
      "source": [
        "# Get Dataset and show\n",
        "train_transform = transforms.Compose([\n",
        "                                      transforms.RandomCrop(32, padding=4),\n",
        "                                      transforms.RandomHorizontalFlip(),\n",
        "                                      transforms.ToTensor(),\n",
        "                                      transforms.Normalize((0.4914, 0.4822, 0.4465), (0.2023, 0.1994, 0.2010)),\n",
        "])\n",
        "\n",
        "test_transform = transforms.Compose([\n",
        "                                      transforms.ToTensor(),\n",
        "                                      transforms.Normalize((0.4914, 0.4822, 0.4465), (0.2023, 0.1994, 0.2010)),\n",
        "])\n",
        "\n",
        "numbers_classes = [str(i) for i in range(10)]\n",
        "train_set = torchvision.datasets.SVHN(root='./datasets_svhn', split='train', download=True, transform=train_transform)\n",
        "test_set = torchvision.datasets.SVHN(root='./datasets_svhn', split='test', download=True, transform=test_transform)\n",
        "\n",
        "show_examples(test_set, numbers_classes, 5)"
      ]
    },
    {
      "cell_type": "code",
      "source": [
        "class CNNModel(nn.Module):\n",
        "    def __init__(self, conv_param, lin_param):\n",
        "        super(CNNModel, self).__init__()\n",
        "        # model definitions/blocks\n",
        "        self.conv_layer = nn.Sequential(*conv_param)\n",
        "        self.fc_layer = nn.Sequential(*lin_param)\n",
        "\n",
        "    def forward(self, x):\n",
        "        x = self.conv_layer(x)\n",
        "        x = x.view(x.size(0), -1)\n",
        "        x = self.fc_layer(x)\n",
        "        return x\n"
      ],
      "metadata": {
        "id": "GF_VpLEt5O2Y"
      },
      "execution_count": 19,
      "outputs": []
    },
    {
      "cell_type": "code",
      "source": [
        "# CNN dict\n",
        "# time to train our model\n",
        "# hyper-parameters\n",
        "batch_size = 128\n",
        "learning_rate = 5e-5\n",
        "epochs = 21\n",
        "\n",
        "\n",
        "# dataloaders - creating batches and shuffling the data\n",
        "trainloader = torch.utils.data.DataLoader(\n",
        "    train_set, batch_size=batch_size, shuffle=True, num_workers=2)\n",
        "testloader = torch.utils.data.DataLoader(\n",
        "    test_set, batch_size=batch_size, shuffle=False, num_workers=2)\n",
        "\n",
        "# device - cpu or gpu?\n",
        "device = torch.device(\"cuda:0\" if torch.cuda.is_available() else \"cpu\")\n",
        "\n",
        "# loss criterion\n",
        "criterion = nn.CrossEntropyLoss()\n",
        "\n",
        "# build our model and send it to the device\n",
        "model = CNNModel(conv_layer, fc_layer).to(device) # no need for parameters as we alredy defined them in the class\n",
        "\n",
        "# optimizer - SGD, Adam, RMSProp...\n",
        "optimizer = torch.optim.Adam(model.parameters(), lr=learning_rate)\n",
        "scheduler = torch.optim.lr_scheduler.MultiStepLR(optimizer,milestones=[7, 14], gamma=0.2)\n",
        "\n",
        "\n",
        "model_dict = {'model': model,\n",
        "              'criterion': criterion,\n",
        "              'optimizer': optimizer,\n",
        "              'scheduler': scheduler,\n",
        "              'epochs': epochs,\n",
        "              'trainloader': trainloader,\n",
        "              'testloader': testloader,\n",
        "              'device': device}"
      ],
      "metadata": {
        "id": "tcZ0UvAy4_RI"
      },
      "execution_count": 22,
      "outputs": []
    },
    {
      "cell_type": "code",
      "source": [
        "train_model(model_dict)"
      ],
      "metadata": {
        "id": "welMMDt-56JR",
        "outputId": "95a37d23-1625-48c9-9064-51a36bd6eb0a",
        "colab": {
          "base_uri": "https://localhost:8080/"
        }
      },
      "execution_count": null,
      "outputs": [
        {
          "output_type": "stream",
          "name": "stdout",
          "text": [
            "Epoch:  1 | Loss: 2.2479 | Training accuracy: 18.921% | Test accuracy: 19.587% | Epoch Time: 112.59 secs\n"
          ]
        }
      ]
    },
    {
      "cell_type": "code",
      "source": [
        "class additive_noise():\n",
        "  def __init__(self, a):\n",
        "    self.gain = torch.Tensor([a])\n",
        "\n",
        "  def __call__(self, imgs):  \n",
        "    shape = imgs.shape\n",
        "    WN = self.gain * torch.randn(imgs.shape)\n",
        "    imgs = imgs + WN\n",
        "    return torch.clamp(imgs, min=-1, max=1)\n",
        "\n",
        "  #def __call__(self, imgs):\n",
        "  #  return self.forward(imgs)"
      ],
      "metadata": {
        "id": "2BwghJ9t3v2a"
      },
      "execution_count": null,
      "outputs": []
    },
    {
      "cell_type": "code",
      "source": [
        "gains = [0.005, 0.01, 0.02, 0.05]\n",
        "for gain in gains:\n",
        "  test_transform = transforms.Compose([\n",
        "                                     transforms.ToTensor(),\n",
        "                                     additive_noise(gain),\n",
        "                                     transforms.Normalize((0.4914, 0.4822, 0.4465), (0.2023, 0.1994, 0.2010)),\n",
        "  ])\n",
        "\n",
        "  test_set = torchvision.datasets.SVHN(root='./datasets_svhn', split='test', download=True, transform=test_transform)\n",
        "  testloader = torch.utils.data.DataLoader(\n",
        "    test_set, batch_size=batch_size, shuffle=False, num_workers=2)\n",
        "\n",
        "  test_accuracy, _, _ = calculate_accuracy(model_dict['model'], testloader, criterion, device)\n",
        "  log = \"With noise with gain: {:.3f} Test accuracy: {:.3f}%\".format(gain, test_accuracy)\n",
        "  print(log)"
      ],
      "metadata": {
        "id": "jFigBWQC2wrJ"
      },
      "execution_count": null,
      "outputs": []
    },
    {
      "cell_type": "markdown",
      "metadata": {
        "id": "k-rNik5j4D2X"
      },
      "source": [
        "## <img src=\"https://img.icons8.com/dusk/64/000000/prize.png\" style=\"height:50px;display:inline\"> Credits\n",
        "---\n",
        "* Icons made by <a href=\"https://www.flaticon.com/authors/becris\" title=\"Becris\">Becris</a> from <a href=\"https://www.flaticon.com/\" title=\"Flaticon\">www.flaticon.com</a>\n",
        "* Icons from <a href=\"https://icons8.com/\">Icons8.com</a> - https://icons8.com\n",
        "* Datasets from <a href=\"https://www.kaggle.com/\">Kaggle</a> - https://www.kaggle.com/"
      ]
    },
    {
      "cell_type": "code",
      "source": [
        ""
      ],
      "metadata": {
        "id": "60rUiyA8JP3E"
      },
      "execution_count": null,
      "outputs": []
    }
  ],
  "metadata": {
    "kernelspec": {
      "display_name": "Python 3",
      "language": "python",
      "name": "python3"
    },
    "language_info": {
      "codemirror_mode": {
        "name": "ipython",
        "version": 3
      },
      "file_extension": ".py",
      "mimetype": "text/x-python",
      "name": "python",
      "nbconvert_exporter": "python",
      "pygments_lexer": "ipython3",
      "version": "3.6.9"
    },
    "colab": {
      "name": "ee046211_hw2_312775364.ipynb",
      "provenance": []
    },
    "accelerator": "GPU"
  },
  "nbformat": 4,
  "nbformat_minor": 0
}